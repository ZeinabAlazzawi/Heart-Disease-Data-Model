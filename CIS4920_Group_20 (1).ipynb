{
  "nbformat": 4,
  "nbformat_minor": 0,
  "metadata": {
    "colab": {
      "name": "CIS4920 - Group 20.ipynb",
      "provenance": [],
      "collapsed_sections": []
    },
    "kernelspec": {
      "name": "python3",
      "display_name": "Python 3"
    },
    "language_info": {
      "name": "python"
    }
  },
  "cells": [
    {
      "cell_type": "code",
      "metadata": {
        "id": "ORVBtPSnaGKK"
      },
      "source": [
        "#Hussain Alhassan and Zeinab Alazzawi"
      ],
      "execution_count": 111,
      "outputs": []
    },
    {
      "cell_type": "code",
      "metadata": {
        "id": "AJJaBl-RbPHm"
      },
      "source": [
        "import pandas as pd\n",
        "import numpy as np\n",
        "import matplotlib.pyplot as plt"
      ],
      "execution_count": 49,
      "outputs": []
    },
    {
      "cell_type": "code",
      "metadata": {
        "colab": {
          "base_uri": "https://localhost:8080/",
          "height": 206
        },
        "id": "Xe-9-hMUbYrL",
        "outputId": "7dbf9a00-c821-43b2-b3cf-6c7bae12ffdc"
      },
      "source": [
        "heartdata = pd.read_csv(\"heart.csv\", header = 0)\n",
        "heartdata.head()"
      ],
      "execution_count": 50,
      "outputs": [
        {
          "output_type": "execute_result",
          "data": {
            "text/html": [
              "<div>\n",
              "<style scoped>\n",
              "    .dataframe tbody tr th:only-of-type {\n",
              "        vertical-align: middle;\n",
              "    }\n",
              "\n",
              "    .dataframe tbody tr th {\n",
              "        vertical-align: top;\n",
              "    }\n",
              "\n",
              "    .dataframe thead th {\n",
              "        text-align: right;\n",
              "    }\n",
              "</style>\n",
              "<table border=\"1\" class=\"dataframe\">\n",
              "  <thead>\n",
              "    <tr style=\"text-align: right;\">\n",
              "      <th></th>\n",
              "      <th>Age</th>\n",
              "      <th>Sex</th>\n",
              "      <th>ChestPainType</th>\n",
              "      <th>RestingBP</th>\n",
              "      <th>Cholesterol</th>\n",
              "      <th>FastingBS</th>\n",
              "      <th>RestingECG</th>\n",
              "      <th>MaxHR</th>\n",
              "      <th>ExerciseAngina</th>\n",
              "      <th>Oldpeak</th>\n",
              "      <th>ST_Slope</th>\n",
              "      <th>HeartDisease</th>\n",
              "      <th>Unnamed: 12</th>\n",
              "    </tr>\n",
              "  </thead>\n",
              "  <tbody>\n",
              "    <tr>\n",
              "      <th>0</th>\n",
              "      <td>51</td>\n",
              "      <td>M</td>\n",
              "      <td>ASY</td>\n",
              "      <td>140</td>\n",
              "      <td>0</td>\n",
              "      <td>0</td>\n",
              "      <td>Normal</td>\n",
              "      <td>60</td>\n",
              "      <td>N</td>\n",
              "      <td>0.0</td>\n",
              "      <td>Flat</td>\n",
              "      <td>1</td>\n",
              "      <td>NaN</td>\n",
              "    </tr>\n",
              "    <tr>\n",
              "      <th>1</th>\n",
              "      <td>60</td>\n",
              "      <td>M</td>\n",
              "      <td>ASY</td>\n",
              "      <td>135</td>\n",
              "      <td>0</td>\n",
              "      <td>0</td>\n",
              "      <td>Normal</td>\n",
              "      <td>63</td>\n",
              "      <td>Y</td>\n",
              "      <td>0.5</td>\n",
              "      <td>Up</td>\n",
              "      <td>1</td>\n",
              "      <td>NaN</td>\n",
              "    </tr>\n",
              "    <tr>\n",
              "      <th>2</th>\n",
              "      <td>65</td>\n",
              "      <td>M</td>\n",
              "      <td>ASY</td>\n",
              "      <td>145</td>\n",
              "      <td>0</td>\n",
              "      <td>1</td>\n",
              "      <td>ST</td>\n",
              "      <td>67</td>\n",
              "      <td>N</td>\n",
              "      <td>0.7</td>\n",
              "      <td>Flat</td>\n",
              "      <td>1</td>\n",
              "      <td>NaN</td>\n",
              "    </tr>\n",
              "    <tr>\n",
              "      <th>3</th>\n",
              "      <td>58</td>\n",
              "      <td>M</td>\n",
              "      <td>ASY</td>\n",
              "      <td>132</td>\n",
              "      <td>458</td>\n",
              "      <td>1</td>\n",
              "      <td>Normal</td>\n",
              "      <td>69</td>\n",
              "      <td>N</td>\n",
              "      <td>1.0</td>\n",
              "      <td>Down</td>\n",
              "      <td>0</td>\n",
              "      <td>NaN</td>\n",
              "    </tr>\n",
              "    <tr>\n",
              "      <th>4</th>\n",
              "      <td>61</td>\n",
              "      <td>M</td>\n",
              "      <td>NAP</td>\n",
              "      <td>200</td>\n",
              "      <td>0</td>\n",
              "      <td>1</td>\n",
              "      <td>ST</td>\n",
              "      <td>70</td>\n",
              "      <td>N</td>\n",
              "      <td>0.0</td>\n",
              "      <td>Flat</td>\n",
              "      <td>1</td>\n",
              "      <td>NaN</td>\n",
              "    </tr>\n",
              "  </tbody>\n",
              "</table>\n",
              "</div>"
            ],
            "text/plain": [
              "   Age Sex ChestPainType  ...  ST_Slope  HeartDisease  Unnamed: 12\n",
              "0   51   M           ASY  ...      Flat             1          NaN\n",
              "1   60   M           ASY  ...        Up             1          NaN\n",
              "2   65   M           ASY  ...      Flat             1          NaN\n",
              "3   58   M           ASY  ...      Down             0          NaN\n",
              "4   61   M           NAP  ...      Flat             1          NaN\n",
              "\n",
              "[5 rows x 13 columns]"
            ]
          },
          "metadata": {},
          "execution_count": 50
        }
      ]
    },
    {
      "cell_type": "code",
      "metadata": {
        "colab": {
          "base_uri": "https://localhost:8080/",
          "height": 424
        },
        "id": "eLXl_hPkEMbJ",
        "outputId": "ac277bf6-d4b3-44ed-9470-223a1014e174"
      },
      "source": [
        "heartdata=heartdata.drop(['RestingECG','Cholesterol','FastingBS','MaxHR','ExerciseAngina','Oldpeak','ST_Slope','Unnamed: 12'],axis=1)\n",
        "heartdata"
      ],
      "execution_count": 51,
      "outputs": [
        {
          "output_type": "execute_result",
          "data": {
            "text/html": [
              "<div>\n",
              "<style scoped>\n",
              "    .dataframe tbody tr th:only-of-type {\n",
              "        vertical-align: middle;\n",
              "    }\n",
              "\n",
              "    .dataframe tbody tr th {\n",
              "        vertical-align: top;\n",
              "    }\n",
              "\n",
              "    .dataframe thead th {\n",
              "        text-align: right;\n",
              "    }\n",
              "</style>\n",
              "<table border=\"1\" class=\"dataframe\">\n",
              "  <thead>\n",
              "    <tr style=\"text-align: right;\">\n",
              "      <th></th>\n",
              "      <th>Age</th>\n",
              "      <th>Sex</th>\n",
              "      <th>ChestPainType</th>\n",
              "      <th>RestingBP</th>\n",
              "      <th>HeartDisease</th>\n",
              "    </tr>\n",
              "  </thead>\n",
              "  <tbody>\n",
              "    <tr>\n",
              "      <th>0</th>\n",
              "      <td>51</td>\n",
              "      <td>M</td>\n",
              "      <td>ASY</td>\n",
              "      <td>140</td>\n",
              "      <td>1</td>\n",
              "    </tr>\n",
              "    <tr>\n",
              "      <th>1</th>\n",
              "      <td>60</td>\n",
              "      <td>M</td>\n",
              "      <td>ASY</td>\n",
              "      <td>135</td>\n",
              "      <td>1</td>\n",
              "    </tr>\n",
              "    <tr>\n",
              "      <th>2</th>\n",
              "      <td>65</td>\n",
              "      <td>M</td>\n",
              "      <td>ASY</td>\n",
              "      <td>145</td>\n",
              "      <td>1</td>\n",
              "    </tr>\n",
              "    <tr>\n",
              "      <th>3</th>\n",
              "      <td>58</td>\n",
              "      <td>M</td>\n",
              "      <td>ASY</td>\n",
              "      <td>132</td>\n",
              "      <td>0</td>\n",
              "    </tr>\n",
              "    <tr>\n",
              "      <th>4</th>\n",
              "      <td>61</td>\n",
              "      <td>M</td>\n",
              "      <td>NAP</td>\n",
              "      <td>200</td>\n",
              "      <td>1</td>\n",
              "    </tr>\n",
              "    <tr>\n",
              "      <th>...</th>\n",
              "      <td>...</td>\n",
              "      <td>...</td>\n",
              "      <td>...</td>\n",
              "      <td>...</td>\n",
              "      <td>...</td>\n",
              "    </tr>\n",
              "    <tr>\n",
              "      <th>913</th>\n",
              "      <td>52</td>\n",
              "      <td>M</td>\n",
              "      <td>TA</td>\n",
              "      <td>118</td>\n",
              "      <td>0</td>\n",
              "    </tr>\n",
              "    <tr>\n",
              "      <th>914</th>\n",
              "      <td>34</td>\n",
              "      <td>F</td>\n",
              "      <td>ATA</td>\n",
              "      <td>118</td>\n",
              "      <td>0</td>\n",
              "    </tr>\n",
              "    <tr>\n",
              "      <th>915</th>\n",
              "      <td>42</td>\n",
              "      <td>M</td>\n",
              "      <td>NAP</td>\n",
              "      <td>120</td>\n",
              "      <td>0</td>\n",
              "    </tr>\n",
              "    <tr>\n",
              "      <th>916</th>\n",
              "      <td>54</td>\n",
              "      <td>M</td>\n",
              "      <td>ATA</td>\n",
              "      <td>192</td>\n",
              "      <td>1</td>\n",
              "    </tr>\n",
              "    <tr>\n",
              "      <th>917</th>\n",
              "      <td>29</td>\n",
              "      <td>M</td>\n",
              "      <td>ATA</td>\n",
              "      <td>130</td>\n",
              "      <td>0</td>\n",
              "    </tr>\n",
              "  </tbody>\n",
              "</table>\n",
              "<p>918 rows × 5 columns</p>\n",
              "</div>"
            ],
            "text/plain": [
              "     Age Sex ChestPainType  RestingBP  HeartDisease\n",
              "0     51   M           ASY        140             1\n",
              "1     60   M           ASY        135             1\n",
              "2     65   M           ASY        145             1\n",
              "3     58   M           ASY        132             0\n",
              "4     61   M           NAP        200             1\n",
              "..   ...  ..           ...        ...           ...\n",
              "913   52   M            TA        118             0\n",
              "914   34   F           ATA        118             0\n",
              "915   42   M           NAP        120             0\n",
              "916   54   M           ATA        192             1\n",
              "917   29   M           ATA        130             0\n",
              "\n",
              "[918 rows x 5 columns]"
            ]
          },
          "metadata": {},
          "execution_count": 51
        }
      ]
    },
    {
      "cell_type": "code",
      "metadata": {
        "colab": {
          "base_uri": "https://localhost:8080/"
        },
        "id": "2JlkSKOBNJks",
        "outputId": "004ce739-1129-4334-d3c3-a590ce9f9dbb"
      },
      "source": [
        "#Data size\n",
        "heartdata.shape"
      ],
      "execution_count": 52,
      "outputs": [
        {
          "output_type": "execute_result",
          "data": {
            "text/plain": [
              "(918, 5)"
            ]
          },
          "metadata": {},
          "execution_count": 52
        }
      ]
    },
    {
      "cell_type": "code",
      "metadata": {
        "colab": {
          "base_uri": "https://localhost:8080/"
        },
        "id": "q805dfF6bjg_",
        "outputId": "c54886f5-fe6d-4994-dc75-d01fa76d254e"
      },
      "source": [
        "#see the types of data\n",
        "heartdata.dtypes"
      ],
      "execution_count": 53,
      "outputs": [
        {
          "output_type": "execute_result",
          "data": {
            "text/plain": [
              "Age               int64\n",
              "Sex              object\n",
              "ChestPainType    object\n",
              "RestingBP         int64\n",
              "HeartDisease      int64\n",
              "dtype: object"
            ]
          },
          "metadata": {},
          "execution_count": 53
        }
      ]
    },
    {
      "cell_type": "code",
      "metadata": {
        "colab": {
          "base_uri": "https://localhost:8080/",
          "height": 424
        },
        "id": "_WeQ2EpB_O0f",
        "outputId": "9fdf5507-ab8b-41f7-d3d2-c57900b7064d"
      },
      "source": [
        "#Drop any missing values\n",
        "heartdata.dropna(axis=0)\n",
        "heartdata"
      ],
      "execution_count": 54,
      "outputs": [
        {
          "output_type": "execute_result",
          "data": {
            "text/html": [
              "<div>\n",
              "<style scoped>\n",
              "    .dataframe tbody tr th:only-of-type {\n",
              "        vertical-align: middle;\n",
              "    }\n",
              "\n",
              "    .dataframe tbody tr th {\n",
              "        vertical-align: top;\n",
              "    }\n",
              "\n",
              "    .dataframe thead th {\n",
              "        text-align: right;\n",
              "    }\n",
              "</style>\n",
              "<table border=\"1\" class=\"dataframe\">\n",
              "  <thead>\n",
              "    <tr style=\"text-align: right;\">\n",
              "      <th></th>\n",
              "      <th>Age</th>\n",
              "      <th>Sex</th>\n",
              "      <th>ChestPainType</th>\n",
              "      <th>RestingBP</th>\n",
              "      <th>HeartDisease</th>\n",
              "    </tr>\n",
              "  </thead>\n",
              "  <tbody>\n",
              "    <tr>\n",
              "      <th>0</th>\n",
              "      <td>51</td>\n",
              "      <td>M</td>\n",
              "      <td>ASY</td>\n",
              "      <td>140</td>\n",
              "      <td>1</td>\n",
              "    </tr>\n",
              "    <tr>\n",
              "      <th>1</th>\n",
              "      <td>60</td>\n",
              "      <td>M</td>\n",
              "      <td>ASY</td>\n",
              "      <td>135</td>\n",
              "      <td>1</td>\n",
              "    </tr>\n",
              "    <tr>\n",
              "      <th>2</th>\n",
              "      <td>65</td>\n",
              "      <td>M</td>\n",
              "      <td>ASY</td>\n",
              "      <td>145</td>\n",
              "      <td>1</td>\n",
              "    </tr>\n",
              "    <tr>\n",
              "      <th>3</th>\n",
              "      <td>58</td>\n",
              "      <td>M</td>\n",
              "      <td>ASY</td>\n",
              "      <td>132</td>\n",
              "      <td>0</td>\n",
              "    </tr>\n",
              "    <tr>\n",
              "      <th>4</th>\n",
              "      <td>61</td>\n",
              "      <td>M</td>\n",
              "      <td>NAP</td>\n",
              "      <td>200</td>\n",
              "      <td>1</td>\n",
              "    </tr>\n",
              "    <tr>\n",
              "      <th>...</th>\n",
              "      <td>...</td>\n",
              "      <td>...</td>\n",
              "      <td>...</td>\n",
              "      <td>...</td>\n",
              "      <td>...</td>\n",
              "    </tr>\n",
              "    <tr>\n",
              "      <th>913</th>\n",
              "      <td>52</td>\n",
              "      <td>M</td>\n",
              "      <td>TA</td>\n",
              "      <td>118</td>\n",
              "      <td>0</td>\n",
              "    </tr>\n",
              "    <tr>\n",
              "      <th>914</th>\n",
              "      <td>34</td>\n",
              "      <td>F</td>\n",
              "      <td>ATA</td>\n",
              "      <td>118</td>\n",
              "      <td>0</td>\n",
              "    </tr>\n",
              "    <tr>\n",
              "      <th>915</th>\n",
              "      <td>42</td>\n",
              "      <td>M</td>\n",
              "      <td>NAP</td>\n",
              "      <td>120</td>\n",
              "      <td>0</td>\n",
              "    </tr>\n",
              "    <tr>\n",
              "      <th>916</th>\n",
              "      <td>54</td>\n",
              "      <td>M</td>\n",
              "      <td>ATA</td>\n",
              "      <td>192</td>\n",
              "      <td>1</td>\n",
              "    </tr>\n",
              "    <tr>\n",
              "      <th>917</th>\n",
              "      <td>29</td>\n",
              "      <td>M</td>\n",
              "      <td>ATA</td>\n",
              "      <td>130</td>\n",
              "      <td>0</td>\n",
              "    </tr>\n",
              "  </tbody>\n",
              "</table>\n",
              "<p>918 rows × 5 columns</p>\n",
              "</div>"
            ],
            "text/plain": [
              "     Age Sex ChestPainType  RestingBP  HeartDisease\n",
              "0     51   M           ASY        140             1\n",
              "1     60   M           ASY        135             1\n",
              "2     65   M           ASY        145             1\n",
              "3     58   M           ASY        132             0\n",
              "4     61   M           NAP        200             1\n",
              "..   ...  ..           ...        ...           ...\n",
              "913   52   M            TA        118             0\n",
              "914   34   F           ATA        118             0\n",
              "915   42   M           NAP        120             0\n",
              "916   54   M           ATA        192             1\n",
              "917   29   M           ATA        130             0\n",
              "\n",
              "[918 rows x 5 columns]"
            ]
          },
          "metadata": {},
          "execution_count": 54
        }
      ]
    },
    {
      "cell_type": "code",
      "metadata": {
        "colab": {
          "base_uri": "https://localhost:8080/",
          "height": 424
        },
        "id": "zZHR-G8XFb4z",
        "outputId": "4aec783c-63b0-48a4-88cd-a3cc1c447057"
      },
      "source": [
        "heartdata['Age'] = pd.to_numeric(heartdata['Age'], errors='coerce')\n",
        "heartdata['RestingBP'] = pd.to_numeric(heartdata['RestingBP'], errors='coerce')\n",
        "heartdata['HeartDisease'] = pd.to_numeric(heartdata['HeartDisease'], errors='coerce')\n",
        "heartdata\n"
      ],
      "execution_count": 55,
      "outputs": [
        {
          "output_type": "execute_result",
          "data": {
            "text/html": [
              "<div>\n",
              "<style scoped>\n",
              "    .dataframe tbody tr th:only-of-type {\n",
              "        vertical-align: middle;\n",
              "    }\n",
              "\n",
              "    .dataframe tbody tr th {\n",
              "        vertical-align: top;\n",
              "    }\n",
              "\n",
              "    .dataframe thead th {\n",
              "        text-align: right;\n",
              "    }\n",
              "</style>\n",
              "<table border=\"1\" class=\"dataframe\">\n",
              "  <thead>\n",
              "    <tr style=\"text-align: right;\">\n",
              "      <th></th>\n",
              "      <th>Age</th>\n",
              "      <th>Sex</th>\n",
              "      <th>ChestPainType</th>\n",
              "      <th>RestingBP</th>\n",
              "      <th>HeartDisease</th>\n",
              "    </tr>\n",
              "  </thead>\n",
              "  <tbody>\n",
              "    <tr>\n",
              "      <th>0</th>\n",
              "      <td>51</td>\n",
              "      <td>M</td>\n",
              "      <td>ASY</td>\n",
              "      <td>140</td>\n",
              "      <td>1</td>\n",
              "    </tr>\n",
              "    <tr>\n",
              "      <th>1</th>\n",
              "      <td>60</td>\n",
              "      <td>M</td>\n",
              "      <td>ASY</td>\n",
              "      <td>135</td>\n",
              "      <td>1</td>\n",
              "    </tr>\n",
              "    <tr>\n",
              "      <th>2</th>\n",
              "      <td>65</td>\n",
              "      <td>M</td>\n",
              "      <td>ASY</td>\n",
              "      <td>145</td>\n",
              "      <td>1</td>\n",
              "    </tr>\n",
              "    <tr>\n",
              "      <th>3</th>\n",
              "      <td>58</td>\n",
              "      <td>M</td>\n",
              "      <td>ASY</td>\n",
              "      <td>132</td>\n",
              "      <td>0</td>\n",
              "    </tr>\n",
              "    <tr>\n",
              "      <th>4</th>\n",
              "      <td>61</td>\n",
              "      <td>M</td>\n",
              "      <td>NAP</td>\n",
              "      <td>200</td>\n",
              "      <td>1</td>\n",
              "    </tr>\n",
              "    <tr>\n",
              "      <th>...</th>\n",
              "      <td>...</td>\n",
              "      <td>...</td>\n",
              "      <td>...</td>\n",
              "      <td>...</td>\n",
              "      <td>...</td>\n",
              "    </tr>\n",
              "    <tr>\n",
              "      <th>913</th>\n",
              "      <td>52</td>\n",
              "      <td>M</td>\n",
              "      <td>TA</td>\n",
              "      <td>118</td>\n",
              "      <td>0</td>\n",
              "    </tr>\n",
              "    <tr>\n",
              "      <th>914</th>\n",
              "      <td>34</td>\n",
              "      <td>F</td>\n",
              "      <td>ATA</td>\n",
              "      <td>118</td>\n",
              "      <td>0</td>\n",
              "    </tr>\n",
              "    <tr>\n",
              "      <th>915</th>\n",
              "      <td>42</td>\n",
              "      <td>M</td>\n",
              "      <td>NAP</td>\n",
              "      <td>120</td>\n",
              "      <td>0</td>\n",
              "    </tr>\n",
              "    <tr>\n",
              "      <th>916</th>\n",
              "      <td>54</td>\n",
              "      <td>M</td>\n",
              "      <td>ATA</td>\n",
              "      <td>192</td>\n",
              "      <td>1</td>\n",
              "    </tr>\n",
              "    <tr>\n",
              "      <th>917</th>\n",
              "      <td>29</td>\n",
              "      <td>M</td>\n",
              "      <td>ATA</td>\n",
              "      <td>130</td>\n",
              "      <td>0</td>\n",
              "    </tr>\n",
              "  </tbody>\n",
              "</table>\n",
              "<p>918 rows × 5 columns</p>\n",
              "</div>"
            ],
            "text/plain": [
              "     Age Sex ChestPainType  RestingBP  HeartDisease\n",
              "0     51   M           ASY        140             1\n",
              "1     60   M           ASY        135             1\n",
              "2     65   M           ASY        145             1\n",
              "3     58   M           ASY        132             0\n",
              "4     61   M           NAP        200             1\n",
              "..   ...  ..           ...        ...           ...\n",
              "913   52   M            TA        118             0\n",
              "914   34   F           ATA        118             0\n",
              "915   42   M           NAP        120             0\n",
              "916   54   M           ATA        192             1\n",
              "917   29   M           ATA        130             0\n",
              "\n",
              "[918 rows x 5 columns]"
            ]
          },
          "metadata": {},
          "execution_count": 55
        }
      ]
    },
    {
      "cell_type": "code",
      "metadata": {
        "colab": {
          "base_uri": "https://localhost:8080/",
          "height": 424
        },
        "id": "oNcvgUnHRVta",
        "outputId": "2a32025e-59cc-40ca-bee8-1fdeb110a1e7"
      },
      "source": [
        "#Get all the data where Heart Disease is 1 (True)\n",
        "Heart_Disease = heartdata[heartdata['HeartDisease']==1]\n",
        "Heart_Disease"
      ],
      "execution_count": 56,
      "outputs": [
        {
          "output_type": "execute_result",
          "data": {
            "text/html": [
              "<div>\n",
              "<style scoped>\n",
              "    .dataframe tbody tr th:only-of-type {\n",
              "        vertical-align: middle;\n",
              "    }\n",
              "\n",
              "    .dataframe tbody tr th {\n",
              "        vertical-align: top;\n",
              "    }\n",
              "\n",
              "    .dataframe thead th {\n",
              "        text-align: right;\n",
              "    }\n",
              "</style>\n",
              "<table border=\"1\" class=\"dataframe\">\n",
              "  <thead>\n",
              "    <tr style=\"text-align: right;\">\n",
              "      <th></th>\n",
              "      <th>Age</th>\n",
              "      <th>Sex</th>\n",
              "      <th>ChestPainType</th>\n",
              "      <th>RestingBP</th>\n",
              "      <th>HeartDisease</th>\n",
              "    </tr>\n",
              "  </thead>\n",
              "  <tbody>\n",
              "    <tr>\n",
              "      <th>0</th>\n",
              "      <td>51</td>\n",
              "      <td>M</td>\n",
              "      <td>ASY</td>\n",
              "      <td>140</td>\n",
              "      <td>1</td>\n",
              "    </tr>\n",
              "    <tr>\n",
              "      <th>1</th>\n",
              "      <td>60</td>\n",
              "      <td>M</td>\n",
              "      <td>ASY</td>\n",
              "      <td>135</td>\n",
              "      <td>1</td>\n",
              "    </tr>\n",
              "    <tr>\n",
              "      <th>2</th>\n",
              "      <td>65</td>\n",
              "      <td>M</td>\n",
              "      <td>ASY</td>\n",
              "      <td>145</td>\n",
              "      <td>1</td>\n",
              "    </tr>\n",
              "    <tr>\n",
              "      <th>4</th>\n",
              "      <td>61</td>\n",
              "      <td>M</td>\n",
              "      <td>NAP</td>\n",
              "      <td>200</td>\n",
              "      <td>1</td>\n",
              "    </tr>\n",
              "    <tr>\n",
              "      <th>5</th>\n",
              "      <td>67</td>\n",
              "      <td>M</td>\n",
              "      <td>ASY</td>\n",
              "      <td>120</td>\n",
              "      <td>1</td>\n",
              "    </tr>\n",
              "    <tr>\n",
              "      <th>...</th>\n",
              "      <td>...</td>\n",
              "      <td>...</td>\n",
              "      <td>...</td>\n",
              "      <td>...</td>\n",
              "      <td>...</td>\n",
              "    </tr>\n",
              "    <tr>\n",
              "      <th>885</th>\n",
              "      <td>52</td>\n",
              "      <td>M</td>\n",
              "      <td>NAP</td>\n",
              "      <td>128</td>\n",
              "      <td>1</td>\n",
              "    </tr>\n",
              "    <tr>\n",
              "      <th>891</th>\n",
              "      <td>40</td>\n",
              "      <td>M</td>\n",
              "      <td>ASY</td>\n",
              "      <td>152</td>\n",
              "      <td>1</td>\n",
              "    </tr>\n",
              "    <tr>\n",
              "      <th>896</th>\n",
              "      <td>38</td>\n",
              "      <td>M</td>\n",
              "      <td>TA</td>\n",
              "      <td>120</td>\n",
              "      <td>1</td>\n",
              "    </tr>\n",
              "    <tr>\n",
              "      <th>898</th>\n",
              "      <td>57</td>\n",
              "      <td>M</td>\n",
              "      <td>ASY</td>\n",
              "      <td>95</td>\n",
              "      <td>1</td>\n",
              "    </tr>\n",
              "    <tr>\n",
              "      <th>916</th>\n",
              "      <td>54</td>\n",
              "      <td>M</td>\n",
              "      <td>ATA</td>\n",
              "      <td>192</td>\n",
              "      <td>1</td>\n",
              "    </tr>\n",
              "  </tbody>\n",
              "</table>\n",
              "<p>508 rows × 5 columns</p>\n",
              "</div>"
            ],
            "text/plain": [
              "     Age Sex ChestPainType  RestingBP  HeartDisease\n",
              "0     51   M           ASY        140             1\n",
              "1     60   M           ASY        135             1\n",
              "2     65   M           ASY        145             1\n",
              "4     61   M           NAP        200             1\n",
              "5     67   M           ASY        120             1\n",
              "..   ...  ..           ...        ...           ...\n",
              "885   52   M           NAP        128             1\n",
              "891   40   M           ASY        152             1\n",
              "896   38   M            TA        120             1\n",
              "898   57   M           ASY         95             1\n",
              "916   54   M           ATA        192             1\n",
              "\n",
              "[508 rows x 5 columns]"
            ]
          },
          "metadata": {},
          "execution_count": 56
        }
      ]
    },
    {
      "cell_type": "code",
      "metadata": {
        "colab": {
          "base_uri": "https://localhost:8080/",
          "height": 295
        },
        "id": "8dSV0lcqSEG5",
        "outputId": "497fd6cf-708e-4ee9-da10-e1a913055186"
      },
      "source": [
        "#Relationship between Age and Sex for those who have Heart Disease\n",
        "Heart_Disease.plot(x='Age',y='Sex',kind = 'scatter', c='red')\n",
        "plt.title('Age vs Gender')\n",
        "plt.show()"
      ],
      "execution_count": 57,
      "outputs": [
        {
          "output_type": "display_data",
          "data": {
            "image/png": "[encoded data removed]",
            "text/plain": [
              "<Figure size 432x288 with 1 Axes>"
            ]
          },
          "metadata": {
            "needs_background": "light"
          }
        }
      ]
    },
    {
      "cell_type": "code",
      "metadata": {
        "colab": {
          "base_uri": "https://localhost:8080/",
          "height": 295
        },
        "id": "M9OrkTiGStJO",
        "outputId": "1a338b1c-ac9a-4148-b7b8-18ff74fe6b96"
      },
      "source": [
        "#Relationship between Age and RestingBP for those who have Heart Disease\n",
        "Heart_Disease.plot(x='RestingBP',y='Age',kind = 'scatter', c='red')\n",
        "plt.title('Age vs Resting Blood Pressure')\n",
        "plt.show()"
      ],
      "execution_count": 58,
      "outputs": [
        {
          "output_type": "display_data",
          "data": {
            "image/png": "[encoded data removed]",
            "text/plain": [
              "<Figure size 432x288 with 1 Axes>"
            ]
          },
          "metadata": {
            "needs_background": "light"
          }
        }
      ]
    },
    {
      "cell_type": "code",
      "metadata": {
        "colab": {
          "base_uri": "https://localhost:8080/",
          "height": 295
        },
        "id": "CtvI_-99TFBI",
        "outputId": "28d574a7-f732-4fda-acaf-c473d2ff054c"
      },
      "source": [
        "#Relationship between Age and ChestPainType for those who have Heart Disease\n",
        "Heart_Disease.plot(x='ChestPainType',y='Age',kind = 'scatter', c='red')\n",
        "plt.title('Age vs Chest Pain Type')\n",
        "plt.show()"
      ],
      "execution_count": 59,
      "outputs": [
        {
          "output_type": "display_data",
          "data": {
            "image/png": "[encoded data removed]",
            "text/plain": [
              "<Figure size 432x288 with 1 Axes>"
            ]
          },
          "metadata": {
            "needs_background": "light"
          }
        }
      ]
    },
    {
      "cell_type": "code",
      "metadata": {
        "id": "Gewax5rFal-0"
      },
      "source": [
        "#needed more space\n",
        "import sys\n",
        "sys.setrecursionlimit(100000)"
      ],
      "execution_count": 60,
      "outputs": []
    },
    {
      "cell_type": "code",
      "metadata": {
        "id": "yZ8-TNU2ADSx"
      },
      "source": [
        ""
      ],
      "execution_count": 60,
      "outputs": []
    },
    {
      "cell_type": "code",
      "metadata": {
        "colab": {
          "base_uri": "https://localhost:8080/"
        },
        "id": "-67L_fVREGBG",
        "outputId": "b40b55b9-3342-4298-911a-108627d6895c"
      },
      "source": [
        "#Replace strings in Sex\n",
        "heartdata['Sex'].replace('M', 1 ,inplace=True)\n",
        "heartdata['Sex'].replace('F', 2 ,inplace=True)\n",
        "heartdata['Sex']"
      ],
      "execution_count": 61,
      "outputs": [
        {
          "output_type": "execute_result",
          "data": {
            "text/plain": [
              "0      1\n",
              "1      1\n",
              "2      1\n",
              "3      1\n",
              "4      1\n",
              "      ..\n",
              "913    1\n",
              "914    2\n",
              "915    1\n",
              "916    1\n",
              "917    1\n",
              "Name: Sex, Length: 918, dtype: int64"
            ]
          },
          "metadata": {},
          "execution_count": 61
        }
      ]
    },
    {
      "cell_type": "code",
      "metadata": {
        "colab": {
          "base_uri": "https://localhost:8080/"
        },
        "id": "y2d5Xxr2cuim",
        "outputId": "774a53b7-dcf2-4f59-f333-b8ef52ffb510"
      },
      "source": [
        "#Replace strings in ChestPainType\n",
        "heartdata['ChestPainType'].replace('ASY', 1 ,inplace=True)\n",
        "heartdata['ChestPainType'].replace('ATA', 2 ,inplace=True)\n",
        "heartdata['ChestPainType'].replace('NAP', 3 ,inplace=True)\n",
        "heartdata['ChestPainType'].replace('TA', 4 ,inplace=True)\n",
        "heartdata['ChestPainType']"
      ],
      "execution_count": 62,
      "outputs": [
        {
          "output_type": "execute_result",
          "data": {
            "text/plain": [
              "0      1\n",
              "1      1\n",
              "2      1\n",
              "3      1\n",
              "4      3\n",
              "      ..\n",
              "913    4\n",
              "914    2\n",
              "915    3\n",
              "916    2\n",
              "917    2\n",
              "Name: ChestPainType, Length: 918, dtype: int64"
            ]
          },
          "metadata": {},
          "execution_count": 62
        }
      ]
    },
    {
      "cell_type": "code",
      "metadata": {
        "id": "LurC7RosYnkb"
      },
      "source": [
        "X = heartdata.iloc[:, :1].values\n",
        "y = heartdata.iloc[:, -1].values"
      ],
      "execution_count": 63,
      "outputs": []
    },
    {
      "cell_type": "code",
      "metadata": {
        "id": "1jT4JgrGFE8a"
      },
      "source": [
        "#Split data into X and y\n",
        "Train_X = np.array(heartdata.drop(['Age','Sex','HeartDisease'],1))\n",
        "Train_y = np.array(heartdata[['HeartDisease']])\n",
        "\n",
        "print(Train_X) \n",
        "print(Train_y)"
      ],
      "execution_count": null,
      "outputs": []
    },
    {
      "cell_type": "code",
      "metadata": {
        "id": "5fFl4VfIPcya"
      },
      "source": [
        "from sklearn.linear_model import LinearRegression\n",
        "reg = LinearRegression().fit(Train_X, Train_y)"
      ],
      "execution_count": 65,
      "outputs": []
    },
    {
      "cell_type": "code",
      "metadata": {
        "colab": {
          "base_uri": "https://localhost:8080/"
        },
        "id": "OUYvne0whCMV",
        "outputId": "8d2c801f-5411-4745-ae77-02b6705b2065"
      },
      "source": [
        "prediction = reg.predict(np.asarray([2,11]).reshape(1, -1))\n",
        "\n",
        "print('Prediction:', prediction)"
      ],
      "execution_count": 66,
      "outputs": [
        {
          "output_type": "stream",
          "name": "stdout",
          "text": [
            "Prediction: [[0.18457396]]\n"
          ]
        }
      ]
    },
    {
      "cell_type": "code",
      "metadata": {
        "colab": {
          "base_uri": "https://localhost:8080/"
        },
        "id": "Gojb7r2kgsl8",
        "outputId": "e7f4ac60-a4ed-4150-9a9d-05c75db7a952"
      },
      "source": [
        "# coefficeints of the trained model\n",
        "print('\\nCoefficient of model :', reg.coef_)\n",
        "\n",
        "# intercept of the model\n",
        "print('\\nIntercept of model',reg.intercept_)"
      ],
      "execution_count": 67,
      "outputs": [
        {
          "output_type": "stream",
          "name": "stdout",
          "text": [
            "\n",
            "Coefficient of model : [[-0.20009007  0.00267711]]\n",
            "\n",
            "Intercept of model [0.55530583]\n"
          ]
        }
      ]
    },
    {
      "cell_type": "code",
      "metadata": {
        "id": "dVt0I5YgMzvx"
      },
      "source": [
        "df = pd.read_csv(\"heart_test.csv\", header = 0)\n",
        "df = df.drop(['RestingECG','Cholesterol','FastingBS','MaxHR','ExerciseAngina','Oldpeak','ST_Slope',],axis=1)"
      ],
      "execution_count": 68,
      "outputs": []
    },
    {
      "cell_type": "code",
      "metadata": {
        "colab": {
          "base_uri": "https://localhost:8080/"
        },
        "id": "T0T3mr9LQJj6",
        "outputId": "392450b5-942f-4a86-cf8b-ada90250fabd"
      },
      "source": [
        "#Replace strings in Sex\n",
        "df['Sex'].replace('M', 1 ,inplace=True)\n",
        "df['Sex'].replace('F', 2 ,inplace=True)\n",
        "df['Sex']"
      ],
      "execution_count": 69,
      "outputs": [
        {
          "output_type": "execute_result",
          "data": {
            "text/plain": [
              "0      1\n",
              "1      1\n",
              "2      1\n",
              "3      1\n",
              "4      1\n",
              "      ..\n",
              "913    1\n",
              "914    2\n",
              "915    1\n",
              "916    1\n",
              "917    1\n",
              "Name: Sex, Length: 918, dtype: int64"
            ]
          },
          "metadata": {},
          "execution_count": 69
        }
      ]
    },
    {
      "cell_type": "code",
      "metadata": {
        "colab": {
          "base_uri": "https://localhost:8080/"
        },
        "id": "KNoPOOHpMzhB",
        "outputId": "0cb47b7b-962e-40db-d39c-64b57d4a007a"
      },
      "source": [
        "#Replace strings in ChestPainType\n",
        "df['ChestPainType'].replace('ASY', 1 ,inplace=True)\n",
        "df['ChestPainType'].replace('ATA', 2 ,inplace=True)\n",
        "df['ChestPainType'].replace('NAP', 3 ,inplace=True)\n",
        "df['ChestPainType'].replace('TA', 4 ,inplace=True)\n",
        "df['ChestPainType']"
      ],
      "execution_count": 70,
      "outputs": [
        {
          "output_type": "execute_result",
          "data": {
            "text/plain": [
              "0      1\n",
              "1      1\n",
              "2      1\n",
              "3      1\n",
              "4      3\n",
              "      ..\n",
              "913    4\n",
              "914    2\n",
              "915    3\n",
              "916    2\n",
              "917    2\n",
              "Name: ChestPainType, Length: 918, dtype: int64"
            ]
          },
          "metadata": {},
          "execution_count": 70
        }
      ]
    },
    {
      "cell_type": "code",
      "metadata": {
        "colab": {
          "base_uri": "https://localhost:8080/"
        },
        "id": "cLY3N9NL2ZmW",
        "outputId": "70161297-414d-43f2-c17c-0f585005535f"
      },
      "source": [
        "df['HeartDisease'].replace(1, 1 ,inplace=True)\n",
        "df['HeartDisease'].replace(0, 2 ,inplace=True)\n",
        "df['HeartDisease']"
      ],
      "execution_count": 71,
      "outputs": [
        {
          "output_type": "execute_result",
          "data": {
            "text/plain": [
              "0      1\n",
              "1      1\n",
              "2      1\n",
              "3      2\n",
              "4      1\n",
              "      ..\n",
              "913    2\n",
              "914    2\n",
              "915    2\n",
              "916    1\n",
              "917    2\n",
              "Name: HeartDisease, Length: 918, dtype: int64"
            ]
          },
          "metadata": {},
          "execution_count": 71
        }
      ]
    },
    {
      "cell_type": "code",
      "metadata": {
        "id": "yW2u_eS_MzT3"
      },
      "source": [
        "from sklearn.linear_model import LinearRegression"
      ],
      "execution_count": 72,
      "outputs": []
    },
    {
      "cell_type": "code",
      "metadata": {
        "id": "gF94TcNa7Gx1"
      },
      "source": [
        "X = df.iloc[:, :1].values\n",
        "y = df.iloc[:, -1].values"
      ],
      "execution_count": 84,
      "outputs": []
    },
    {
      "cell_type": "code",
      "metadata": {
        "id": "VneDoM1SOQZp"
      },
      "source": [
        "#split test data into x and y\n",
        "Test_X = np.array(df.drop(['Age','Sex','HeartDisease'],1))\n",
        "Test_y = np.array(df[['HeartDisease']])\n",
        "\n",
        "print(Test_X) \n",
        "print(Test_y)"
      ],
      "execution_count": null,
      "outputs": []
    },
    {
      "cell_type": "code",
      "metadata": {
        "colab": {
          "base_uri": "https://localhost:8080/"
        },
        "id": "nlk-KGkuaVDv",
        "outputId": "300cd3c3-6c2e-4cfa-dba1-3c5866ceefb5"
      },
      "source": [
        "#predict test data\n",
        "prediction2 = reg.predict(np.asarray([2,11]).reshape(1, -1))\n",
        "\n",
        "print('Prediction:', prediction2)"
      ],
      "execution_count": 100,
      "outputs": [
        {
          "output_type": "stream",
          "name": "stdout",
          "text": [
            "Prediction: [[0.18457396]]\n"
          ]
        }
      ]
    },
    {
      "cell_type": "code",
      "metadata": {
        "colab": {
          "base_uri": "https://localhost:8080/"
        },
        "id": "WOJGmuiTaZk3",
        "outputId": "b9c4be5e-22d5-45fe-fe3a-e1fff2243c0f"
      },
      "source": [
        "from sklearn.metrics import mean_squared_error\n",
        "\n",
        "mean_squared_error(Test_y_predicted, Test_y)"
      ],
      "execution_count": 102,
      "outputs": [
        {
          "output_type": "execute_result",
          "data": {
            "text/plain": [
              "1.1633461833807601"
            ]
          },
          "metadata": {},
          "execution_count": 102
        }
      ]
    },
    {
      "cell_type": "code",
      "metadata": {
        "id": "dBGV0AP_UDvH"
      },
      "source": [
        "#Here are some charts we created as well to help visualize"
      ],
      "execution_count": 106,
      "outputs": []
    },
    {
      "cell_type": "code",
      "metadata": {
        "colab": {
          "base_uri": "https://localhost:8080/",
          "height": 276
        },
        "id": "apPy3y-12hXT",
        "outputId": "9473ef31-c1c8-4c6e-a7d3-74a5b84cdd02"
      },
      "source": [
        "#Stacked bar chart to show chest pain type with heart disease\n",
        "heartdata.groupby(['HeartDisease', 'ChestPainType']).size().unstack().plot(kind='bar',stacked=True)\n",
        "plt.show()"
      ],
      "execution_count": 107,
      "outputs": [
        {
          "output_type": "display_data",
          "data": {
            "image/png": "[encoded data removed]",
            "text/plain": [
              "<Figure size 432x288 with 1 Axes>"
            ]
          },
          "metadata": {
            "needs_background": "light"
          }
        }
      ]
    },
    {
      "cell_type": "code",
      "metadata": {
        "colab": {
          "base_uri": "https://localhost:8080/"
        },
        "id": "Bh9exFsOSGvT",
        "outputId": "39d24bce-a894-41f4-9e27-96dd810788ac"
      },
      "source": [
        "#Create Age bins to visualize it as a string\n",
        "Ages = pd.DataFrame(heartdata.Age, columns=['Age'])\n",
        "bins = [18, 30, 40, 50, 60, 70, 120]\n",
        "labels = ['18-29', '30-39', '40-49', '50-59', '60-69', '70+']\n",
        "Ages['AgeBin'] = pd.cut(heartdata.Age, bins, labels = labels,include_lowest = True)\n",
        "\n",
        "print(Ages)"
      ],
      "execution_count": 108,
      "outputs": [
        {
          "output_type": "stream",
          "name": "stdout",
          "text": [
            "     Age AgeBin\n",
            "0     51  50-59\n",
            "1     60  50-59\n",
            "2     65  60-69\n",
            "3     58  50-59\n",
            "4     61  60-69\n",
            "..   ...    ...\n",
            "913   52  50-59\n",
            "914   34  30-39\n",
            "915   42  40-49\n",
            "916   54  50-59\n",
            "917   29  18-29\n",
            "\n",
            "[918 rows x 2 columns]\n"
          ]
        }
      ]
    },
    {
      "cell_type": "code",
      "metadata": {
        "colab": {
          "base_uri": "https://localhost:8080/",
          "height": 276
        },
        "id": "8QO0Kvn4BhHO",
        "outputId": "ba42017c-3b96-40b8-b32d-ed880343f9f1"
      },
      "source": [
        "#Stacked bar chart to show what age has more heart diseases\n",
        "heartdata.groupby([\"HeartDisease\", Ages.AgeBin]).size().unstack().plot(kind='bar',stacked=True)\n",
        "plt.show()"
      ],
      "execution_count": 109,
      "outputs": [
        {
          "output_type": "display_data",
          "data": {
            "image/png": "[encoded data removed]",
            "text/plain": [
              "<Figure size 432x288 with 1 Axes>"
            ]
          },
          "metadata": {
            "needs_background": "light"
          }
        }
      ]
    },
    {
      "cell_type": "code",
      "metadata": {
        "colab": {
          "base_uri": "https://localhost:8080/",
          "height": 276
        },
        "id": "xel-FROKCM2M",
        "outputId": "4da81424-d466-4b55-a4b0-fdfd97329ed2"
      },
      "source": [
        "#Stacked bar chart to show which gender has more heart diseases\n",
        "heartdata.groupby([\"HeartDisease\", 'Sex']).size().unstack().plot(kind='bar',stacked=True,)\n",
        "plt.show()"
      ],
      "execution_count": 110,
      "outputs": [
        {
          "output_type": "display_data",
          "data": {
            "image/png": "[encoded data removed]",
            "text/plain": [
              "<Figure size 432x288 with 1 Axes>"
            ]
          },
          "metadata": {
            "needs_background": "light"
          }
        }
      ]
    }
  ]
}